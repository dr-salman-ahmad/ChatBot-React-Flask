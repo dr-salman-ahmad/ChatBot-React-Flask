{
  "nbformat": 4,
  "nbformat_minor": 0,
  "metadata": {
    "colab": {
      "provenance": []
    },
    "kernelspec": {
      "name": "python3",
      "display_name": "Python 3"
    },
    "language_info": {
      "name": "python"
    }
  },
  "cells": [
    {
      "cell_type": "code",
      "execution_count": null,
      "metadata": {
        "id": "Bkh5mSS_2Xzz"
      },
      "outputs": [],
      "source": [
        "import os\n",
        "import openai\n",
        "import sys\n",
        "sys.path.append('../..')\n",
        "\n",
        "from dotenv import load_dotenv, find_dotenv\n",
        "_ = load_dotenv(find_dotenv()) # read local .env file\n",
        "\n",
        "openai.api_key  = os.environ['OPENAI_API_KEY']"
      ]
    },
    {
      "cell_type": "code",
      "source": [
        "from langchain.schema import Document\n",
        "from langchain.text_splitter import RecursiveCharacterTextSplitter\n",
        "from langchain.vectorstores import Chroma\n",
        "from langchain.embeddings.openai import OpenAIEmbeddings\n",
        "from langchain.memory import ConversationBufferMemory\n",
        "from langchain.chat_models import ChatOpenAI\n",
        "from langchain.prompts import PromptTemplate\n",
        "from langchain.chains import ConversationalRetrievalChain\n",
        "\n",
        "# Sample Documents\n",
        "documents = [\n",
        "            Document(page_content=\"Devsloop is a software development firm based in Gujranwala, Pakistan, with a team \"\n",
        "                                  \"of 20 employees. The company is led by CEO Ammad Javaid, with Shehwar Khalid as a \"\n",
        "                                  \"partner. Devsloop has managed Adly clients and has worked on notable projects such \"\n",
        "                                  \"as Beambox, Rapid Translate, Pageflows, Upcall, and Easylama\"),\n",
        "            Document(page_content=\"It has an HR manager named Emama Babur, and salaries are disbursed on the 1st of \"\n",
        "                                  \"each month. Devsloop provide a machine either MAC or Laptop to all employees\"),\n",
        "            Document(page_content=\"My name is Salman Ahmad. I am learning Data Science. I joined the company in \"\n",
        "                                  \"september 2023. I did Graduation from Gift University\")\n",
        "        ]\n",
        "\n",
        "# Text Splitting\n",
        "splitter = RecursiveCharacterTextSplitter(\n",
        "    chunk_size=100,\n",
        "    chunk_overlap=5,\n",
        "    separators=[\"(?<=\\. )\", \" \"]\n",
        ")\n",
        "\n",
        "splits = splitter.split_documents(documents)\n",
        "\n",
        "# Defining Directory\n",
        "persist_directory = 'docs/chroma/'\n",
        "\n",
        "!rm -rf ./docs/chroma  # remove old database files if any\n",
        "\n",
        "# Embedding\n",
        "embedding = OpenAIEmbeddings()\n",
        "\n",
        "# Storing documents in ChromaDB\n",
        "vectordb = Chroma.from_documents(\n",
        "    documents=splits,\n",
        "    embedding=embedding,\n",
        "    persist_directory=persist_directory\n",
        ")\n",
        "\n",
        "# Defining LLM Model\n",
        "llm = ChatOpenAI(model_name=\"gpt-3.5-turbo\", temperature=0)\n",
        "\n",
        "# Build prompt\n",
        "template = \"\"\"Use the following pieces of context to answer the question at the end. If you don't know the answer, just say that you don't know, don't try to make up an answer. Use three sentences maximum. Keep the answer as concise as possible. Always say \"thanks for asking!\" at the end of the answer.\n",
        "{context}\n",
        "Question: {question}\n",
        "Helpful Answer:\"\"\"\n",
        "QA_CHAIN_PROMPT = PromptTemplate(input_variables=[\"context\", \"question\"],template=template,)\n",
        "\n",
        "# Memory for chat history\n",
        "memory = ConversationBufferMemory(\n",
        "    memory_key=\"chat_history\",\n",
        "    return_messages=True\n",
        ")\n",
        "\n",
        "# Retrieving documents from ChromaDB\n",
        "retriever=vectordb.as_retriever(\n",
        "    search_type=\"mmr\",\n",
        "    search_kwargs={'k': 4,'fetch_k': 8}\n",
        ")\n",
        "\n",
        "qa = ConversationalRetrievalChain.from_llm(\n",
        "    llm,\n",
        "    retriever=retriever,\n",
        "    memory=memory,\n",
        "    combine_docs_chain_kwargs={\n",
        "        \"prompt\": QA_CHAIN_PROMPT,\n",
        "    },\n",
        ")\n",
        "\n",
        "# Asking Question from the ChatBot on custom data\n",
        "question = \"How many employees work in devsloop?\"\n",
        "result = qa({\"question\": question})\n",
        "\n",
        "# Showing the results\n",
        "result['answer']"
      ],
      "metadata": {
        "id": "KYCpaVo042QP"
      },
      "execution_count": null,
      "outputs": []
    },
    {
      "cell_type": "code",
      "source": [],
      "metadata": {
        "id": "W6XThFXDyC23"
      },
      "execution_count": null,
      "outputs": []
    }
  ]
}